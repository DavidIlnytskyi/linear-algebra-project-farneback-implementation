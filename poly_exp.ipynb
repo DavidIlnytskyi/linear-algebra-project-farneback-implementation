{
 "cells": [
  {
   "cell_type": "code",
   "execution_count": 13,
   "metadata": {},
   "outputs": [],
   "source": [
    "import numpy as np\n",
    "import matplotlib.pyplot as plt\n",
    "import cv2\n",
    "import matplotlib.pyplot as plt\n",
    "import skimage.io\n",
    "import skimage.transform"
   ]
  },
  {
   "cell_type": "code",
   "execution_count": 2,
   "metadata": {},
   "outputs": [
    {
     "data": {
      "text/plain": [
       "[<matplotlib.lines.Line2D at 0x1566906d0>]"
      ]
     },
     "execution_count": 2,
     "metadata": {},
     "output_type": "execute_result"
    },
    {
     "data": {
      "image/png": "[encoded data removed]",
      "text/plain": [
       "<Figure size 640x480 with 1 Axes>"
      ]
     },
     "metadata": {},
     "output_type": "display_data"
    }
   ],
   "source": [
    "sigma = 4\n",
    "\n",
    "kernel_size = int(4 * 4 + 1)\n",
    "positions = np.arange(-kernel_size, kernel_size + 1, dtype=int)\n",
    "gaussian_kernel = np.exp(-(positions**2) / (2 * sigma**2))\n",
    "\n",
    "plt.plot(gaussian_kernel)"
   ]
  },
  {
   "cell_type": "code",
   "execution_count": 4,
   "metadata": {},
   "outputs": [
    {
     "data": {
      "text/plain": [
       "array([1., 1., 1., 1., 1., 1., 1., 1., 1., 1., 1., 1., 1., 1., 1., 1., 1.,\n",
       "       1., 1., 1., 1., 1., 1., 1., 1., 1., 1., 1., 1., 1., 1., 1., 1., 1.,\n",
       "       1.])"
      ]
     },
     "execution_count": 4,
     "metadata": {},
     "output_type": "execute_result"
    }
   ],
   "source": [
    "np.ones(gaussian_kernel.shape)"
   ]
  },
  {
   "cell_type": "code",
   "execution_count": 10,
   "metadata": {},
   "outputs": [
    {
     "data": {
      "text/plain": [
       "array([[  1., -17.],\n",
       "       [  1., -16.],\n",
       "       [  1., -15.],\n",
       "       [  1., -14.],\n",
       "       [  1., -13.],\n",
       "       [  1., -12.],\n",
       "       [  1., -11.],\n",
       "       [  1., -10.],\n",
       "       [  1.,  -9.],\n",
       "       [  1.,  -8.],\n",
       "       [  1.,  -7.],\n",
       "       [  1.,  -6.],\n",
       "       [  1.,  -5.],\n",
       "       [  1.,  -4.],\n",
       "       [  1.,  -3.],\n",
       "       [  1.,  -2.],\n",
       "       [  1.,  -1.],\n",
       "       [  1.,   0.],\n",
       "       [  1.,   1.],\n",
       "       [  1.,   2.],\n",
       "       [  1.,   3.],\n",
       "       [  1.,   4.],\n",
       "       [  1.,   5.],\n",
       "       [  1.,   6.],\n",
       "       [  1.,   7.],\n",
       "       [  1.,   8.],\n",
       "       [  1.,   9.],\n",
       "       [  1.,  10.],\n",
       "       [  1.,  11.],\n",
       "       [  1.,  12.],\n",
       "       [  1.,  13.],\n",
       "       [  1.,  14.],\n",
       "       [  1.,  15.],\n",
       "       [  1.,  16.],\n",
       "       [  1.,  17.]])"
      ]
     },
     "execution_count": 10,
     "metadata": {},
     "output_type": "execute_result"
    }
   ],
   "source": [
    "# TEST np.stack\n",
    "\n",
    "np.stack([np.ones(gaussian_kernel.shape), positions], axis=-1)"
   ]
  },
  {
   "cell_type": "code",
   "execution_count": 6,
   "metadata": {},
   "outputs": [
    {
     "data": {
      "text/plain": [
       "array([[  1., -17.,   1., 289.,   1., -17.],\n",
       "       [  1., -16.,   1., 256.,   1., -16.],\n",
       "       [  1., -15.,   1., 225.,   1., -15.],\n",
       "       [  1., -14.,   1., 196.,   1., -14.],\n",
       "       [  1., -13.,   1., 169.,   1., -13.],\n",
       "       [  1., -12.,   1., 144.,   1., -12.],\n",
       "       [  1., -11.,   1., 121.,   1., -11.],\n",
       "       [  1., -10.,   1., 100.,   1., -10.],\n",
       "       [  1.,  -9.,   1.,  81.,   1.,  -9.],\n",
       "       [  1.,  -8.,   1.,  64.,   1.,  -8.],\n",
       "       [  1.,  -7.,   1.,  49.,   1.,  -7.],\n",
       "       [  1.,  -6.,   1.,  36.,   1.,  -6.],\n",
       "       [  1.,  -5.,   1.,  25.,   1.,  -5.],\n",
       "       [  1.,  -4.,   1.,  16.,   1.,  -4.],\n",
       "       [  1.,  -3.,   1.,   9.,   1.,  -3.],\n",
       "       [  1.,  -2.,   1.,   4.,   1.,  -2.],\n",
       "       [  1.,  -1.,   1.,   1.,   1.,  -1.],\n",
       "       [  1.,   0.,   1.,   0.,   1.,   0.],\n",
       "       [  1.,   1.,   1.,   1.,   1.,   1.],\n",
       "       [  1.,   2.,   1.,   4.,   1.,   2.],\n",
       "       [  1.,   3.,   1.,   9.,   1.,   3.],\n",
       "       [  1.,   4.,   1.,  16.,   1.,   4.],\n",
       "       [  1.,   5.,   1.,  25.,   1.,   5.],\n",
       "       [  1.,   6.,   1.,  36.,   1.,   6.],\n",
       "       [  1.,   7.,   1.,  49.,   1.,   7.],\n",
       "       [  1.,   8.,   1.,  64.,   1.,   8.],\n",
       "       [  1.,   9.,   1.,  81.,   1.,   9.],\n",
       "       [  1.,  10.,   1., 100.,   1.,  10.],\n",
       "       [  1.,  11.,   1., 121.,   1.,  11.],\n",
       "       [  1.,  12.,   1., 144.,   1.,  12.],\n",
       "       [  1.,  13.,   1., 169.,   1.,  13.],\n",
       "       [  1.,  14.,   1., 196.,   1.,  14.],\n",
       "       [  1.,  15.,   1., 225.,   1.,  15.],\n",
       "       [  1.,  16.,   1., 256.,   1.,  16.],\n",
       "       [  1.,  17.,   1., 289.,   1.,  17.]])"
      ]
     },
     "execution_count": 6,
     "metadata": {},
     "output_type": "execute_result"
    }
   ],
   "source": [
    "# ROW BASIS\n",
    "basis_x = np.stack(\n",
    "    [np.ones(gaussian_kernel.shape), positions, \n",
    "     np.ones(gaussian_kernel.shape), positions**2, \n",
    "     np.ones(gaussian_kernel.shape), positions\n",
    "    ], \n",
    "     axis=-1\n",
    ")\n",
    "\n",
    "basis_x"
   ]
  },
  {
   "cell_type": "code",
   "execution_count": 12,
   "metadata": {},
   "outputs": [
    {
     "data": {
      "text/plain": [
       "array([[  1.,   1., -17.,   1., 289., -17.],\n",
       "       [  1.,   1., -16.,   1., 256., -16.],\n",
       "       [  1.,   1., -15.,   1., 225., -15.],\n",
       "       [  1.,   1., -14.,   1., 196., -14.],\n",
       "       [  1.,   1., -13.,   1., 169., -13.],\n",
       "       [  1.,   1., -12.,   1., 144., -12.],\n",
       "       [  1.,   1., -11.,   1., 121., -11.],\n",
       "       [  1.,   1., -10.,   1., 100., -10.],\n",
       "       [  1.,   1.,  -9.,   1.,  81.,  -9.],\n",
       "       [  1.,   1.,  -8.,   1.,  64.,  -8.],\n",
       "       [  1.,   1.,  -7.,   1.,  49.,  -7.],\n",
       "       [  1.,   1.,  -6.,   1.,  36.,  -6.],\n",
       "       [  1.,   1.,  -5.,   1.,  25.,  -5.],\n",
       "       [  1.,   1.,  -4.,   1.,  16.,  -4.],\n",
       "       [  1.,   1.,  -3.,   1.,   9.,  -3.],\n",
       "       [  1.,   1.,  -2.,   1.,   4.,  -2.],\n",
       "       [  1.,   1.,  -1.,   1.,   1.,  -1.],\n",
       "       [  1.,   1.,   0.,   1.,   0.,   0.],\n",
       "       [  1.,   1.,   1.,   1.,   1.,   1.],\n",
       "       [  1.,   1.,   2.,   1.,   4.,   2.],\n",
       "       [  1.,   1.,   3.,   1.,   9.,   3.],\n",
       "       [  1.,   1.,   4.,   1.,  16.,   4.],\n",
       "       [  1.,   1.,   5.,   1.,  25.,   5.],\n",
       "       [  1.,   1.,   6.,   1.,  36.,   6.],\n",
       "       [  1.,   1.,   7.,   1.,  49.,   7.],\n",
       "       [  1.,   1.,   8.,   1.,  64.,   8.],\n",
       "       [  1.,   1.,   9.,   1.,  81.,   9.],\n",
       "       [  1.,   1.,  10.,   1., 100.,  10.],\n",
       "       [  1.,   1.,  11.,   1., 121.,  11.],\n",
       "       [  1.,   1.,  12.,   1., 144.,  12.],\n",
       "       [  1.,   1.,  13.,   1., 169.,  13.],\n",
       "       [  1.,   1.,  14.,   1., 196.,  14.],\n",
       "       [  1.,   1.,  15.,   1., 225.,  15.],\n",
       "       [  1.,   1.,  16.,   1., 256.,  16.],\n",
       "       [  1.,   1.,  17.,   1., 289.,  17.]])"
      ]
     },
     "execution_count": 12,
     "metadata": {},
     "output_type": "execute_result"
    }
   ],
   "source": [
    "basis_y = np.stack(\n",
    "   [np.ones(gaussian_kernel.shape), np.ones(gaussian_kernel.shape),\n",
    "    positions, np.ones(gaussian_kernel.shape), \n",
    "    positions**2, positions\n",
    "   ],\n",
    "    axis=-1,\n",
    ")\n",
    "\n",
    "basis_y\n"
   ]
  },
  {
   "cell_type": "code",
   "execution_count": 19,
   "metadata": {},
   "outputs": [],
   "source": [
    "f1 = skimage.io.imread(\"data/ball/image1.tif\").astype(np.double)[:,:,0]\n",
    "f1 = skimage.io.imread(\"data/ball/image2.tif\").astype(np.double)[:,:,0]"
   ]
  },
  {
   "cell_type": "code",
   "execution_count": 20,
   "metadata": {},
   "outputs": [
    {
     "data": {
      "text/plain": [
       "array([[ 58.,  58.,  58., ..., 145., 145., 145.],\n",
       "       [ 58.,  58.,  58., ..., 145., 145., 145.],\n",
       "       [ 58.,  58.,  58., ..., 145., 145., 145.],\n",
       "       ...,\n",
       "       [188., 188., 190., ..., 171., 172., 173.],\n",
       "       [190., 191., 192., ..., 170., 172., 174.],\n",
       "       [192., 192., 193., ..., 171., 173., 175.]])"
      ]
     },
     "execution_count": 20,
     "metadata": {},
     "output_type": "execute_result"
    }
   ],
   "source": [
    "f1"
   ]
  },
  {
   "cell_type": "code",
   "execution_count": 23,
   "metadata": {},
   "outputs": [
    {
     "data": {
      "text/plain": [
       "array([[0. , 0. , 0. , ..., 0. , 0. , 0. ],\n",
       "       [0. , 0.2, 0.2, ..., 0.2, 0.2, 0.2],\n",
       "       [0. , 0.2, 0.4, ..., 0.4, 0.4, 0.4],\n",
       "       ...,\n",
       "       [0. , 0.2, 0.4, ..., 1. , 1. , 1. ],\n",
       "       [0. , 0.2, 0.4, ..., 1. , 1. , 1. ],\n",
       "       [0. , 0.2, 0.4, ..., 1. , 1. , 1. ]])"
      ]
     },
     "execution_count": 23,
     "metadata": {},
     "output_type": "execute_result"
    }
   ],
   "source": [
    "c1 = np.minimum(\n",
    "    1, 1 / 5 * np.minimum(np.arange(f1.shape[0])[:, None], np.arange(f1.shape[1]))\n",
    ")\n",
    "\n",
    "c1"
   ]
  },
  {
   "cell_type": "code",
   "execution_count": 24,
   "metadata": {},
   "outputs": [
    {
     "data": {
      "text/plain": [
       "array([[0. , 0. , 0. , ..., 0. , 0. , 0. ],\n",
       "       [0. , 0.2, 0.2, ..., 0.2, 0.2, 0. ],\n",
       "       [0. , 0.2, 0.4, ..., 0.4, 0.2, 0. ],\n",
       "       ...,\n",
       "       [0. , 0.2, 0.4, ..., 0.4, 0.2, 0. ],\n",
       "       [0. , 0.2, 0.2, ..., 0.2, 0.2, 0. ],\n",
       "       [0. , 0. , 0. , ..., 0. , 0. , 0. ]])"
      ]
     },
     "execution_count": 24,
     "metadata": {},
     "output_type": "execute_result"
    }
   ],
   "source": [
    "c1 = np.minimum(\n",
    "    c1,\n",
    "    1 / 5 * np.minimum(\n",
    "        f1.shape[0] - 1 - np.arange(f1.shape[0])[:, None],\n",
    "        f1.shape[1] - 1 - np.arange(f1.shape[1]),\n",
    "    ),\n",
    ")\n",
    "\n",
    "c1"
   ]
  },
  {
   "cell_type": "code",
   "execution_count": 26,
   "metadata": {},
   "outputs": [
    {
     "data": {
      "text/plain": [
       "array([[ 0. ,  0. ,  0. , ...,  0. ,  0. ,  0. ],\n",
       "       [ 0. , 11.6, 11.6, ..., 29. , 29. ,  0. ],\n",
       "       [ 0. , 11.6, 23.2, ..., 58. , 29. ,  0. ],\n",
       "       ...,\n",
       "       [ 0. , 37.6, 76. , ..., 68.4, 34.4,  0. ],\n",
       "       [ 0. , 38.2, 38.4, ..., 34. , 34.4,  0. ],\n",
       "       [ 0. ,  0. ,  0. , ...,  0. ,  0. ,  0. ]])"
      ]
     },
     "execution_count": 26,
     "metadata": {},
     "output_type": "execute_result"
    }
   ],
   "source": [
    "weighted = f1 * c1\n",
    "weighted"
   ]
  },
  {
   "cell_type": "code",
   "execution_count": 28,
   "metadata": {},
   "outputs": [
    {
     "data": {
      "text/plain": [
       "array([[[[0., 0., 0., 0., 0., 0.],\n",
       "         [0., 0., 0., 0., 0., 0.],\n",
       "         [0., 0., 0., 0., 0., 0.],\n",
       "         [0., 0., 0., 0., 0., 0.],\n",
       "         [0., 0., 0., 0., 0., 0.],\n",
       "         [0., 0., 0., 0., 0., 0.]],\n",
       "\n",
       "        [[0., 0., 0., 0., 0., 0.],\n",
       "         [0., 0., 0., 0., 0., 0.],\n",
       "         [0., 0., 0., 0., 0., 0.],\n",
       "         [0., 0., 0., 0., 0., 0.],\n",
       "         [0., 0., 0., 0., 0., 0.],\n",
       "         [0., 0., 0., 0., 0., 0.]],\n",
       "\n",
       "        [[0., 0., 0., 0., 0., 0.],\n",
       "         [0., 0., 0., 0., 0., 0.],\n",
       "         [0., 0., 0., 0., 0., 0.],\n",
       "         [0., 0., 0., 0., 0., 0.],\n",
       "         [0., 0., 0., 0., 0., 0.],\n",
       "         [0., 0., 0., 0., 0., 0.]],\n",
       "\n",
       "        ...,\n",
       "\n",
       "        [[0., 0., 0., 0., 0., 0.],\n",
       "         [0., 0., 0., 0., 0., 0.],\n",
       "         [0., 0., 0., 0., 0., 0.],\n",
       "         [0., 0., 0., 0., 0., 0.],\n",
       "         [0., 0., 0., 0., 0., 0.],\n",
       "         [0., 0., 0., 0., 0., 0.]],\n",
       "\n",
       "        [[0., 0., 0., 0., 0., 0.],\n",
       "         [0., 0., 0., 0., 0., 0.],\n",
       "         [0., 0., 0., 0., 0., 0.],\n",
       "         [0., 0., 0., 0., 0., 0.],\n",
       "         [0., 0., 0., 0., 0., 0.],\n",
       "         [0., 0., 0., 0., 0., 0.]],\n",
       "\n",
       "        [[0., 0., 0., 0., 0., 0.],\n",
       "         [0., 0., 0., 0., 0., 0.],\n",
       "         [0., 0., 0., 0., 0., 0.],\n",
       "         [0., 0., 0., 0., 0., 0.],\n",
       "         [0., 0., 0., 0., 0., 0.],\n",
       "         [0., 0., 0., 0., 0., 0.]]],\n",
       "\n",
       "\n",
       "       [[[0., 0., 0., 0., 0., 0.],\n",
       "         [0., 0., 0., 0., 0., 0.],\n",
       "         [0., 0., 0., 0., 0., 0.],\n",
       "         [0., 0., 0., 0., 0., 0.],\n",
       "         [0., 0., 0., 0., 0., 0.],\n",
       "         [0., 0., 0., 0., 0., 0.]],\n",
       "\n",
       "        [[0., 0., 0., 0., 0., 0.],\n",
       "         [0., 0., 0., 0., 0., 0.],\n",
       "         [0., 0., 0., 0., 0., 0.],\n",
       "         [0., 0., 0., 0., 0., 0.],\n",
       "         [0., 0., 0., 0., 0., 0.],\n",
       "         [0., 0., 0., 0., 0., 0.]],\n",
       "\n",
       "        [[0., 0., 0., 0., 0., 0.],\n",
       "         [0., 0., 0., 0., 0., 0.],\n",
       "         [0., 0., 0., 0., 0., 0.],\n",
       "         [0., 0., 0., 0., 0., 0.],\n",
       "         [0., 0., 0., 0., 0., 0.],\n",
       "         [0., 0., 0., 0., 0., 0.]],\n",
       "\n",
       "        ...,\n",
       "\n",
       "        [[0., 0., 0., 0., 0., 0.],\n",
       "         [0., 0., 0., 0., 0., 0.],\n",
       "         [0., 0., 0., 0., 0., 0.],\n",
       "         [0., 0., 0., 0., 0., 0.],\n",
       "         [0., 0., 0., 0., 0., 0.],\n",
       "         [0., 0., 0., 0., 0., 0.]],\n",
       "\n",
       "        [[0., 0., 0., 0., 0., 0.],\n",
       "         [0., 0., 0., 0., 0., 0.],\n",
       "         [0., 0., 0., 0., 0., 0.],\n",
       "         [0., 0., 0., 0., 0., 0.],\n",
       "         [0., 0., 0., 0., 0., 0.],\n",
       "         [0., 0., 0., 0., 0., 0.]],\n",
       "\n",
       "        [[0., 0., 0., 0., 0., 0.],\n",
       "         [0., 0., 0., 0., 0., 0.],\n",
       "         [0., 0., 0., 0., 0., 0.],\n",
       "         [0., 0., 0., 0., 0., 0.],\n",
       "         [0., 0., 0., 0., 0., 0.],\n",
       "         [0., 0., 0., 0., 0., 0.]]],\n",
       "\n",
       "\n",
       "       [[[0., 0., 0., 0., 0., 0.],\n",
       "         [0., 0., 0., 0., 0., 0.],\n",
       "         [0., 0., 0., 0., 0., 0.],\n",
       "         [0., 0., 0., 0., 0., 0.],\n",
       "         [0., 0., 0., 0., 0., 0.],\n",
       "         [0., 0., 0., 0., 0., 0.]],\n",
       "\n",
       "        [[0., 0., 0., 0., 0., 0.],\n",
       "         [0., 0., 0., 0., 0., 0.],\n",
       "         [0., 0., 0., 0., 0., 0.],\n",
       "         [0., 0., 0., 0., 0., 0.],\n",
       "         [0., 0., 0., 0., 0., 0.],\n",
       "         [0., 0., 0., 0., 0., 0.]],\n",
       "\n",
       "        [[0., 0., 0., 0., 0., 0.],\n",
       "         [0., 0., 0., 0., 0., 0.],\n",
       "         [0., 0., 0., 0., 0., 0.],\n",
       "         [0., 0., 0., 0., 0., 0.],\n",
       "         [0., 0., 0., 0., 0., 0.],\n",
       "         [0., 0., 0., 0., 0., 0.]],\n",
       "\n",
       "        ...,\n",
       "\n",
       "        [[0., 0., 0., 0., 0., 0.],\n",
       "         [0., 0., 0., 0., 0., 0.],\n",
       "         [0., 0., 0., 0., 0., 0.],\n",
       "         [0., 0., 0., 0., 0., 0.],\n",
       "         [0., 0., 0., 0., 0., 0.],\n",
       "         [0., 0., 0., 0., 0., 0.]],\n",
       "\n",
       "        [[0., 0., 0., 0., 0., 0.],\n",
       "         [0., 0., 0., 0., 0., 0.],\n",
       "         [0., 0., 0., 0., 0., 0.],\n",
       "         [0., 0., 0., 0., 0., 0.],\n",
       "         [0., 0., 0., 0., 0., 0.],\n",
       "         [0., 0., 0., 0., 0., 0.]],\n",
       "\n",
       "        [[0., 0., 0., 0., 0., 0.],\n",
       "         [0., 0., 0., 0., 0., 0.],\n",
       "         [0., 0., 0., 0., 0., 0.],\n",
       "         [0., 0., 0., 0., 0., 0.],\n",
       "         [0., 0., 0., 0., 0., 0.],\n",
       "         [0., 0., 0., 0., 0., 0.]]],\n",
       "\n",
       "\n",
       "       ...,\n",
       "\n",
       "\n",
       "       [[[0., 0., 0., 0., 0., 0.],\n",
       "         [0., 0., 0., 0., 0., 0.],\n",
       "         [0., 0., 0., 0., 0., 0.],\n",
       "         [0., 0., 0., 0., 0., 0.],\n",
       "         [0., 0., 0., 0., 0., 0.],\n",
       "         [0., 0., 0., 0., 0., 0.]],\n",
       "\n",
       "        [[0., 0., 0., 0., 0., 0.],\n",
       "         [0., 0., 0., 0., 0., 0.],\n",
       "         [0., 0., 0., 0., 0., 0.],\n",
       "         [0., 0., 0., 0., 0., 0.],\n",
       "         [0., 0., 0., 0., 0., 0.],\n",
       "         [0., 0., 0., 0., 0., 0.]],\n",
       "\n",
       "        [[0., 0., 0., 0., 0., 0.],\n",
       "         [0., 0., 0., 0., 0., 0.],\n",
       "         [0., 0., 0., 0., 0., 0.],\n",
       "         [0., 0., 0., 0., 0., 0.],\n",
       "         [0., 0., 0., 0., 0., 0.],\n",
       "         [0., 0., 0., 0., 0., 0.]],\n",
       "\n",
       "        ...,\n",
       "\n",
       "        [[0., 0., 0., 0., 0., 0.],\n",
       "         [0., 0., 0., 0., 0., 0.],\n",
       "         [0., 0., 0., 0., 0., 0.],\n",
       "         [0., 0., 0., 0., 0., 0.],\n",
       "         [0., 0., 0., 0., 0., 0.],\n",
       "         [0., 0., 0., 0., 0., 0.]],\n",
       "\n",
       "        [[0., 0., 0., 0., 0., 0.],\n",
       "         [0., 0., 0., 0., 0., 0.],\n",
       "         [0., 0., 0., 0., 0., 0.],\n",
       "         [0., 0., 0., 0., 0., 0.],\n",
       "         [0., 0., 0., 0., 0., 0.],\n",
       "         [0., 0., 0., 0., 0., 0.]],\n",
       "\n",
       "        [[0., 0., 0., 0., 0., 0.],\n",
       "         [0., 0., 0., 0., 0., 0.],\n",
       "         [0., 0., 0., 0., 0., 0.],\n",
       "         [0., 0., 0., 0., 0., 0.],\n",
       "         [0., 0., 0., 0., 0., 0.],\n",
       "         [0., 0., 0., 0., 0., 0.]]],\n",
       "\n",
       "\n",
       "       [[[0., 0., 0., 0., 0., 0.],\n",
       "         [0., 0., 0., 0., 0., 0.],\n",
       "         [0., 0., 0., 0., 0., 0.],\n",
       "         [0., 0., 0., 0., 0., 0.],\n",
       "         [0., 0., 0., 0., 0., 0.],\n",
       "         [0., 0., 0., 0., 0., 0.]],\n",
       "\n",
       "        [[0., 0., 0., 0., 0., 0.],\n",
       "         [0., 0., 0., 0., 0., 0.],\n",
       "         [0., 0., 0., 0., 0., 0.],\n",
       "         [0., 0., 0., 0., 0., 0.],\n",
       "         [0., 0., 0., 0., 0., 0.],\n",
       "         [0., 0., 0., 0., 0., 0.]],\n",
       "\n",
       "        [[0., 0., 0., 0., 0., 0.],\n",
       "         [0., 0., 0., 0., 0., 0.],\n",
       "         [0., 0., 0., 0., 0., 0.],\n",
       "         [0., 0., 0., 0., 0., 0.],\n",
       "         [0., 0., 0., 0., 0., 0.],\n",
       "         [0., 0., 0., 0., 0., 0.]],\n",
       "\n",
       "        ...,\n",
       "\n",
       "        [[0., 0., 0., 0., 0., 0.],\n",
       "         [0., 0., 0., 0., 0., 0.],\n",
       "         [0., 0., 0., 0., 0., 0.],\n",
       "         [0., 0., 0., 0., 0., 0.],\n",
       "         [0., 0., 0., 0., 0., 0.],\n",
       "         [0., 0., 0., 0., 0., 0.]],\n",
       "\n",
       "        [[0., 0., 0., 0., 0., 0.],\n",
       "         [0., 0., 0., 0., 0., 0.],\n",
       "         [0., 0., 0., 0., 0., 0.],\n",
       "         [0., 0., 0., 0., 0., 0.],\n",
       "         [0., 0., 0., 0., 0., 0.],\n",
       "         [0., 0., 0., 0., 0., 0.]],\n",
       "\n",
       "        [[0., 0., 0., 0., 0., 0.],\n",
       "         [0., 0., 0., 0., 0., 0.],\n",
       "         [0., 0., 0., 0., 0., 0.],\n",
       "         [0., 0., 0., 0., 0., 0.],\n",
       "         [0., 0., 0., 0., 0., 0.],\n",
       "         [0., 0., 0., 0., 0., 0.]]],\n",
       "\n",
       "\n",
       "       [[[0., 0., 0., 0., 0., 0.],\n",
       "         [0., 0., 0., 0., 0., 0.],\n",
       "         [0., 0., 0., 0., 0., 0.],\n",
       "         [0., 0., 0., 0., 0., 0.],\n",
       "         [0., 0., 0., 0., 0., 0.],\n",
       "         [0., 0., 0., 0., 0., 0.]],\n",
       "\n",
       "        [[0., 0., 0., 0., 0., 0.],\n",
       "         [0., 0., 0., 0., 0., 0.],\n",
       "         [0., 0., 0., 0., 0., 0.],\n",
       "         [0., 0., 0., 0., 0., 0.],\n",
       "         [0., 0., 0., 0., 0., 0.],\n",
       "         [0., 0., 0., 0., 0., 0.]],\n",
       "\n",
       "        [[0., 0., 0., 0., 0., 0.],\n",
       "         [0., 0., 0., 0., 0., 0.],\n",
       "         [0., 0., 0., 0., 0., 0.],\n",
       "         [0., 0., 0., 0., 0., 0.],\n",
       "         [0., 0., 0., 0., 0., 0.],\n",
       "         [0., 0., 0., 0., 0., 0.]],\n",
       "\n",
       "        ...,\n",
       "\n",
       "        [[0., 0., 0., 0., 0., 0.],\n",
       "         [0., 0., 0., 0., 0., 0.],\n",
       "         [0., 0., 0., 0., 0., 0.],\n",
       "         [0., 0., 0., 0., 0., 0.],\n",
       "         [0., 0., 0., 0., 0., 0.],\n",
       "         [0., 0., 0., 0., 0., 0.]],\n",
       "\n",
       "        [[0., 0., 0., 0., 0., 0.],\n",
       "         [0., 0., 0., 0., 0., 0.],\n",
       "         [0., 0., 0., 0., 0., 0.],\n",
       "         [0., 0., 0., 0., 0., 0.],\n",
       "         [0., 0., 0., 0., 0., 0.],\n",
       "         [0., 0., 0., 0., 0., 0.]],\n",
       "\n",
       "        [[0., 0., 0., 0., 0., 0.],\n",
       "         [0., 0., 0., 0., 0., 0.],\n",
       "         [0., 0., 0., 0., 0., 0.],\n",
       "         [0., 0., 0., 0., 0., 0.],\n",
       "         [0., 0., 0., 0., 0., 0.],\n",
       "         [0., 0., 0., 0., 0., 0.]]]])"
      ]
     },
     "execution_count": 28,
     "metadata": {},
     "output_type": "execute_result"
    }
   ],
   "source": [
    "cross_correlation_matrix = np.empty(list(f1.shape) + [basis_x.shape[-1]] * 2)\n",
    "\n",
    "cross_correlation_matrix"
   ]
  },
  {
   "cell_type": "code",
   "execution_count": 30,
   "metadata": {},
   "outputs": [
    {
     "data": {
      "text/plain": [
       "array([[[0., 0., 0., 0., 0., 0.],\n",
       "        [0., 0., 0., 0., 0., 0.],\n",
       "        [0., 0., 0., 0., 0., 0.],\n",
       "        ...,\n",
       "        [0., 0., 0., 0., 0., 0.],\n",
       "        [0., 0., 0., 0., 0., 0.],\n",
       "        [0., 0., 0., 0., 0., 0.]],\n",
       "\n",
       "       [[0., 0., 0., 0., 0., 0.],\n",
       "        [0., 0., 0., 0., 0., 0.],\n",
       "        [0., 0., 0., 0., 0., 0.],\n",
       "        ...,\n",
       "        [0., 0., 0., 0., 0., 0.],\n",
       "        [0., 0., 0., 0., 0., 0.],\n",
       "        [0., 0., 0., 0., 0., 0.]],\n",
       "\n",
       "       [[0., 0., 0., 0., 0., 0.],\n",
       "        [0., 0., 0., 0., 0., 0.],\n",
       "        [0., 0., 0., 0., 0., 0.],\n",
       "        ...,\n",
       "        [0., 0., 0., 0., 0., 0.],\n",
       "        [0., 0., 0., 0., 0., 0.],\n",
       "        [0., 0., 0., 0., 0., 0.]],\n",
       "\n",
       "       ...,\n",
       "\n",
       "       [[0., 0., 0., 0., 0., 0.],\n",
       "        [0., 0., 0., 0., 0., 0.],\n",
       "        [0., 0., 0., 0., 0., 0.],\n",
       "        ...,\n",
       "        [0., 0., 0., 0., 0., 0.],\n",
       "        [0., 0., 0., 0., 0., 0.],\n",
       "        [0., 0., 0., 0., 0., 0.]],\n",
       "\n",
       "       [[0., 0., 0., 0., 0., 0.],\n",
       "        [0., 0., 0., 0., 0., 0.],\n",
       "        [0., 0., 0., 0., 0., 0.],\n",
       "        ...,\n",
       "        [0., 0., 0., 0., 0., 0.],\n",
       "        [0., 0., 0., 0., 0., 0.],\n",
       "        [0., 0., 0., 0., 0., 0.]],\n",
       "\n",
       "       [[0., 0., 0., 0., 0., 0.],\n",
       "        [0., 0., 0., 0., 0., 0.],\n",
       "        [0., 0., 0., 0., 0., 0.],\n",
       "        ...,\n",
       "        [0., 0., 0., 0., 0., 0.],\n",
       "        [0., 0., 0., 0., 0., 0.],\n",
       "        [0., 0., 0., 0., 0., 0.]]])"
      ]
     },
     "execution_count": 30,
     "metadata": {},
     "output_type": "execute_result"
    }
   ],
   "source": [
    "solution_vector = np.empty(list(f1.shape) + [basis_x.shape[-1]])\n",
    "solution_vector"
   ]
  },
  {
   "cell_type": "code",
   "execution_count": 37,
   "metadata": {},
   "outputs": [
    {
     "data": {
      "text/plain": [
       "array([[ 1.19612884e-04, -2.03341902e-03,  1.19612884e-04,\n",
       "         3.45681234e-02,  1.19612884e-04, -2.03341902e-03],\n",
       "       [ 3.35462628e-04, -5.36740205e-03,  3.35462628e-04,\n",
       "         8.58784327e-02,  3.35462628e-04, -5.36740205e-03],\n",
       "       [ 8.83826307e-04, -1.32573946e-02,  8.83826307e-04,\n",
       "         1.98860919e-01,  8.83826307e-04, -1.32573946e-02],\n",
       "       [ 2.18749112e-03, -3.06248757e-02,  2.18749112e-03,\n",
       "         4.28748259e-01,  2.18749112e-03, -3.06248757e-02],\n",
       "       [ 5.08606923e-03, -6.61189000e-02,  5.08606923e-03,\n",
       "         8.59545700e-01,  5.08606923e-03, -6.61189000e-02],\n",
       "       [ 1.11089965e-02, -1.33307958e-01,  1.11089965e-02,\n",
       "         1.59969550e+00,  1.11089965e-02, -1.33307958e-01],\n",
       "       [ 2.27941809e-02, -2.50735990e-01,  2.27941809e-02,\n",
       "         2.75809589e+00,  2.27941809e-02, -2.50735990e-01],\n",
       "       [ 4.39369336e-02, -4.39369336e-01,  4.39369336e-02,\n",
       "         4.39369336e+00,  4.39369336e-02, -4.39369336e-01],\n",
       "       [ 7.95595087e-02, -7.16035578e-01,  7.95595087e-02,\n",
       "         6.44432021e+00,  7.95595087e-02, -7.16035578e-01],\n",
       "       [ 1.35335283e-01, -1.08268227e+00,  1.35335283e-01,\n",
       "         8.66145813e+00,  1.35335283e-01, -1.08268227e+00],\n",
       "       [ 2.16265167e-01, -1.51385617e+00,  2.16265167e-01,\n",
       "         1.05969932e+01,  2.16265167e-01, -1.51385617e+00],\n",
       "       [ 3.24652467e-01, -1.94791480e+00,  3.24652467e-01,\n",
       "         1.16874888e+01,  3.24652467e-01, -1.94791480e+00],\n",
       "       [ 4.57833362e-01, -2.28916681e+00,  4.57833362e-01,\n",
       "         1.14458340e+01,  4.57833362e-01, -2.28916681e+00],\n",
       "       [ 6.06530660e-01, -2.42612264e+00,  6.06530660e-01,\n",
       "         9.70449056e+00,  6.06530660e-01, -2.42612264e+00],\n",
       "       [ 7.54839602e-01, -2.26451881e+00,  7.54839602e-01,\n",
       "         6.79355642e+00,  7.54839602e-01, -2.26451881e+00],\n",
       "       [ 8.82496903e-01, -1.76499381e+00,  8.82496903e-01,\n",
       "         3.52998761e+00,  8.82496903e-01, -1.76499381e+00],\n",
       "       [ 9.69233234e-01, -9.69233234e-01,  9.69233234e-01,\n",
       "         9.69233234e-01,  9.69233234e-01, -9.69233234e-01],\n",
       "       [ 1.00000000e+00,  0.00000000e+00,  1.00000000e+00,\n",
       "         0.00000000e+00,  1.00000000e+00,  0.00000000e+00],\n",
       "       [ 9.69233234e-01,  9.69233234e-01,  9.69233234e-01,\n",
       "         9.69233234e-01,  9.69233234e-01,  9.69233234e-01],\n",
       "       [ 8.82496903e-01,  1.76499381e+00,  8.82496903e-01,\n",
       "         3.52998761e+00,  8.82496903e-01,  1.76499381e+00],\n",
       "       [ 7.54839602e-01,  2.26451881e+00,  7.54839602e-01,\n",
       "         6.79355642e+00,  7.54839602e-01,  2.26451881e+00],\n",
       "       [ 6.06530660e-01,  2.42612264e+00,  6.06530660e-01,\n",
       "         9.70449056e+00,  6.06530660e-01,  2.42612264e+00],\n",
       "       [ 4.57833362e-01,  2.28916681e+00,  4.57833362e-01,\n",
       "         1.14458340e+01,  4.57833362e-01,  2.28916681e+00],\n",
       "       [ 3.24652467e-01,  1.94791480e+00,  3.24652467e-01,\n",
       "         1.16874888e+01,  3.24652467e-01,  1.94791480e+00],\n",
       "       [ 2.16265167e-01,  1.51385617e+00,  2.16265167e-01,\n",
       "         1.05969932e+01,  2.16265167e-01,  1.51385617e+00],\n",
       "       [ 1.35335283e-01,  1.08268227e+00,  1.35335283e-01,\n",
       "         8.66145813e+00,  1.35335283e-01,  1.08268227e+00],\n",
       "       [ 7.95595087e-02,  7.16035578e-01,  7.95595087e-02,\n",
       "         6.44432021e+00,  7.95595087e-02,  7.16035578e-01],\n",
       "       [ 4.39369336e-02,  4.39369336e-01,  4.39369336e-02,\n",
       "         4.39369336e+00,  4.39369336e-02,  4.39369336e-01],\n",
       "       [ 2.27941809e-02,  2.50735990e-01,  2.27941809e-02,\n",
       "         2.75809589e+00,  2.27941809e-02,  2.50735990e-01],\n",
       "       [ 1.11089965e-02,  1.33307958e-01,  1.11089965e-02,\n",
       "         1.59969550e+00,  1.11089965e-02,  1.33307958e-01],\n",
       "       [ 5.08606923e-03,  6.61189000e-02,  5.08606923e-03,\n",
       "         8.59545700e-01,  5.08606923e-03,  6.61189000e-02],\n",
       "       [ 2.18749112e-03,  3.06248757e-02,  2.18749112e-03,\n",
       "         4.28748259e-01,  2.18749112e-03,  3.06248757e-02],\n",
       "       [ 8.83826307e-04,  1.32573946e-02,  8.83826307e-04,\n",
       "         1.98860919e-01,  8.83826307e-04,  1.32573946e-02],\n",
       "       [ 3.35462628e-04,  5.36740205e-03,  3.35462628e-04,\n",
       "         8.58784327e-02,  3.35462628e-04,  5.36740205e-03],\n",
       "       [ 1.19612884e-04,  2.03341902e-03,  1.19612884e-04,\n",
       "         3.45681234e-02,  1.19612884e-04,  2.03341902e-03]])"
      ]
     },
     "execution_count": 37,
     "metadata": {},
     "output_type": "execute_result"
    }
   ],
   "source": [
    "weighted_basis_x = np.einsum(\"i,ij->ij\", gaussian_kernel, basis_x)\n",
    "weighted_basis_x"
   ]
  }
 ],
 "metadata": {
  "kernelspec": {
   "display_name": "Python 3",
   "language": "python",
   "name": "python3"
  },
  "language_info": {
   "codemirror_mode": {
    "name": "ipython",
    "version": 3
   },
   "file_extension": ".py",
   "mimetype": "text/x-python",
   "name": "python",
   "nbconvert_exporter": "python",
   "pygments_lexer": "ipython3",
   "version": "3.11.4"
  }
 },
 "nbformat": 4,
 "nbformat_minor": 2
}
